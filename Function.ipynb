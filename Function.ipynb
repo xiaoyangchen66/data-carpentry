{
 "cells": [
  {
   "cell_type": "code",
   "execution_count": null,
   "id": "87282d57-3b60-4964-adde-4fd33d231e59",
   "metadata": {},
   "outputs": [],
   "source": [
    "import xarray as xr\n",
    "import cartopy.crs as ccrs\n",
    "import matplotlib.pyplot as plt\n",
    "import numpy as np\n",
    "import cmocean"
   ]
  },
  {
   "cell_type": "markdown",
   "id": "7f1e31e0-de96-42d2-8cb4-818f0748e8a5",
   "metadata": {},
   "source": [
    "## Raw code"
   ]
  },
  {
   "cell_type": "code",
   "execution_count": null,
   "id": "62089c10-f360-4ade-8ed8-3933b6ef56f6",
   "metadata": {},
   "outputs": [],
   "source": [
    "accesscm2_pr_file = 'Data/pr_Amon_ACCESS-CM2_historical_r1i1p1f1_gn_201001-201412.nc'\n",
    "\n",
    "dset = xr.open_dataset(accesscm2_pr_file)\n",
    "\n",
    "clim = dset['pr'].groupby('time.season').mean('time', keep_attrs=True)\n",
    "\n",
    "clim.data = clim.data * 86400\n",
    "clim.attrs['units'] = 'mm/day'\n",
    "\n",
    "fig = plt.figure(figsize=[12,5])\n",
    "ax = fig.add_subplot(111, projection=ccrs.PlateCarree(central_longitude=180))\n",
    "clim.sel(season='JJA').plot.contourf(ax=ax,\n",
    "                                     levels=np.arange(0, 13.5, 1.5),\n",
    "                                     extend='max',\n",
    "                                     transform=ccrs.PlateCarree(),\n",
    "                                     cbar_kwargs={'label': clim.units},\n",
    "                                     cmap=cmocean.cm.haline_r)\n",
    "ax.coastlines()\n",
    "\n",
    "model = dset.attrs['source_id']\n",
    "title = f'{model} precipitation climatology (JJA)'\n",
    "plt.title(title);"
   ]
  },
  {
   "cell_type": "markdown",
   "id": "6411f979-2d39-4707-8d61-20e3a2913f74",
   "metadata": {
    "jp-MarkdownHeadingCollapsed": true
   },
   "source": [
    "## One Function"
   ]
  },
  {
   "cell_type": "code",
   "execution_count": null,
   "id": "40c5398f-e468-4c7e-a25b-875b1124070b",
   "metadata": {},
   "outputs": [],
   "source": [
    "def plot_pr_cli(pr_file, season, gridlines = False):\n",
    "    \"\"\"Plot the precipitation climatology.\n",
    "\n",
    "    Args:\n",
    "        pr_file (str): precipitation data file\n",
    "        season (str): season (3 letter abbreviation e. g. JJA)\n",
    "        gridlines (bool): select whether ot plot gridlines\n",
    "    \"\"\"\n",
    "    \n",
    "    dset = xr.open_dataset(pr_file)\n",
    "    \n",
    "    clim = dset['pr'].groupby('time.season').mean('time', keep_attrs=True)\n",
    "    \n",
    "    clim.data = clim.data * 86400\n",
    "    clim.attrs['units'] = 'mm/day'\n",
    "    \n",
    "    fig = plt.figure(figsize=[12,5])\n",
    "    ax = fig.add_subplot(111, projection=ccrs.PlateCarree(central_longitude=180))\n",
    "    clim.sel(season=season).plot.contourf(ax=ax,\n",
    "                                         levels=np.arange(0, 13.5, 1.5),\n",
    "                                         extend='max',\n",
    "                                         transform=ccrs.PlateCarree(),\n",
    "                                         cbar_kwargs={'label': clim.units},\n",
    "                                         cmap=cmocean.cm.haline_r)\n",
    "    ax.coastlines()\n",
    "\n",
    "    if gridlines:\n",
    "        plt.gca().gridlines()\n",
    "    model = dset.attrs['source_id']\n",
    "    title = f'{model} precipitation climatology ({season})'\n",
    "    plt.title(title)\n"
   ]
  },
  {
   "cell_type": "markdown",
   "id": "2d0930e2-54c7-446a-a478-7075455db5c2",
   "metadata": {},
   "source": [
    "## Multiple Functions"
   ]
  },
  {
   "cell_type": "code",
   "execution_count": null,
   "id": "738d1e24-c312-4f66-a298-6eb70a151861",
   "metadata": {},
   "outputs": [],
   "source": [
    "def convert_pr_unit(darray):\n",
    "    \"\"\"Convert kg m-2 s-1 to mm day-1.\n",
    "   \n",
    "    Args:\n",
    "      darray (xarray.DataArray): Precipitation data\n",
    "   \n",
    "    \"\"\"\n",
    "    \n",
    "    darray.data = darray.data * 86400\n",
    "    darray.attrs['units'] = 'mm/day'\n",
    "    \n",
    "    return darray\n",
    "    \n",
    "def create_plot(clim, model, season, gridlines=False):\n",
    "    \"\"\"Plot the precipitation climatology.\n",
    "   \n",
    "    Args:\n",
    "      clim (xarray.DataArray): Precipitation climatology data\n",
    "      model (str) : Name of the climate model\n",
    "      season (str): Season \n",
    "   \n",
    "    Kwargs:  \n",
    "      gridlines (bool): Select whether to plot gridlines    \n",
    "   \n",
    "    \"\"\"\n",
    "    \n",
    "    fig = plt.figure(figsize=[12,5])\n",
    "    ax = fig.add_subplot(111, projection=ccrs.PlateCarree(central_longitude=180))\n",
    "    clim.sel(season='JJA').plot.contourf(ax=ax,\n",
    "                                         levels=np.arange(0, 13.5, 1.5),\n",
    "                                         extend='max',\n",
    "                                         transform=ccrs.PlateCarree(),\n",
    "                                         cbar_kwargs={'label': clim.units},\n",
    "                                         cmap=cmocean.cm.haline_r)\n",
    "    ax.coastlines()\n",
    "    \n",
    "    model = dset.attrs['source_id']\n",
    "    title = f'{model} precipitation climatology (JJA)'\n",
    "    plt.title(title)\n",
    "\n",
    "def plot_pr_cli(pr_file, season, gridlines=False):\n",
    "    \"\"\"Plot the precipitation climatology.\n",
    "\n",
    "    Args:\n",
    "      pr_file (str): Precipitation data file\n",
    "      season (str): Season (3 letter abbreviation, e.g. JJA)\n",
    "      gridlines (bool): Select whether to plot gridlines\n",
    "\n",
    "    \"\"\"\n",
    "\n",
    "    dset = xr.open_dataset(pr_file)\n",
    "    clim = dset['pr'].groupby('time.season').mean('time', keep_attrs=True)\n",
    "    clim = convert_pr_unit(clim)\n",
    "    create_plot(clim, dset.attrs['source_id'], season, gridlines=gridlines)\n"
   ]
  },
  {
   "cell_type": "markdown",
   "id": "59fbdef5-b9ca-4d57-907b-f0709922d02a",
   "metadata": {},
   "source": [
    "## Call the function from a external .py file"
   ]
  },
  {
   "cell_type": "code",
   "execution_count": null,
   "id": "dd82a8c4-d113-4604-9422-14cfc719bbf3",
   "metadata": {},
   "outputs": [],
   "source": [
    "unit_conversion.plot_pr_climatology('Data/pr_Amon_ACCESS-CM2_historical_r1i1p1f1_gn_201001-201412.nc', 'JJA',gridlines=False)"
   ]
  },
  {
   "cell_type": "code",
   "execution_count": null,
   "id": "9e7f33b3",
   "metadata": {
    "scrolled": true
   },
   "outputs": [],
   "source": []
  }
 ],
 "metadata": {
  "kernelspec": {
   "display_name": "Python 3 (ipykernel)",
   "language": "python",
   "name": "python3"
  },
  "language_info": {
   "codemirror_mode": {
    "name": "ipython",
    "version": 3
   },
   "file_extension": ".py",
   "mimetype": "text/x-python",
   "name": "python",
   "nbconvert_exporter": "python",
   "pygments_lexer": "ipython3",
   "version": "3.9.0"
  }
 },
 "nbformat": 4,
 "nbformat_minor": 5
}
